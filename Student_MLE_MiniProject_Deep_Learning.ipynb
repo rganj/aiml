{
 "cells": [
  {
   "cell_type": "markdown",
   "metadata": {
    "id": "fyXucUekO19i"
   },
   "source": [
    "# Mini Project: Deep Learning with Keras\n",
    "\n",
    "In this mini-project we'll be building a deep learning classifier using Keras to predict income from the popular [Adult Income dataset](http://www.cs.toronto.edu/~delve/data/adult/adultDetail.html).\n",
    "\n",
    "Predicting income from demographic and socio-economic information is an important task with real-world applications, such as financial planning, market research, and social policy analysis. The Adult dataset, sometimes referred to as the \"Census Income\" dataset, contains a vast amount of anonymized data on individuals, including features such as age, education, marital status, occupation, and more. Our objective is to leverage this data to train a deep learning model that can effectively predict whether an individual's income exceeds $50,000 annually or not.\n",
    "\n",
    "Throughout this Colab, we will walk you through the entire process of building a deep learning classifier using Keras, a high-level neural network API that runs on top of TensorFlow. Keras is known for its user-friendly and intuitive interface, making it an excellent choice for both beginners and experienced deep learning practitioners.\n",
    "\n",
    "Here's a brief outline of what we will cover in this mini-project:\n",
    "\n",
    "1. **Data Preprocessing:** We will start by loading and exploring the Adult dataset.\n",
    "\n",
    "2. **Building the Deep Learning Model:** We will construct a neural network using Keras, where we'll dive into understanding the key components of a neural network, including layers, activation functions, and optimization algorithms.\n",
    "\n",
    "3. **Model Training:** With our model architecture in place, we will split the data into training and validation sets and train the neural network on the training data. We will monitor the training process to prevent overfitting and enhance generalization.\n",
    "\n",
    "4. **Model Evaluation:** After training, we'll assess the performance of our model on the test dataset.\n",
    "\n",
    "By the end of this tutorial, you will not only have a functional deep learning classifier for income prediction but also gain valuable insights into how to leverage the power of neural networks for solving real-world classification tasks.\n"
   ]
  },
  {
   "cell_type": "code",
   "execution_count": 1,
   "metadata": {
    "id": "rAGzXpBhHLPJ"
   },
   "outputs": [
    {
     "name": "stdout",
     "output_type": "stream",
     "text": [
      "Requirement already satisfied: scikeras in c:\\users\\raman\\anaconda3\\lib\\site-packages (0.13.0)\n",
      "Requirement already satisfied: keras>=3.2.0 in c:\\users\\raman\\anaconda3\\lib\\site-packages (from scikeras) (3.7.0)\n",
      "Requirement already satisfied: scikit-learn>=1.4.2 in c:\\users\\raman\\anaconda3\\lib\\site-packages (from scikeras) (1.5.1)\n",
      "Requirement already satisfied: absl-py in c:\\users\\raman\\anaconda3\\lib\\site-packages (from keras>=3.2.0->scikeras) (2.1.0)\n",
      "Requirement already satisfied: numpy in c:\\users\\raman\\anaconda3\\lib\\site-packages (from keras>=3.2.0->scikeras) (1.26.4)\n",
      "Requirement already satisfied: rich in c:\\users\\raman\\anaconda3\\lib\\site-packages (from keras>=3.2.0->scikeras) (13.7.1)\n",
      "Requirement already satisfied: namex in c:\\users\\raman\\anaconda3\\lib\\site-packages (from keras>=3.2.0->scikeras) (0.0.8)\n",
      "Requirement already satisfied: h5py in c:\\users\\raman\\anaconda3\\lib\\site-packages (from keras>=3.2.0->scikeras) (3.11.0)\n",
      "Requirement already satisfied: optree in c:\\users\\raman\\anaconda3\\lib\\site-packages (from keras>=3.2.0->scikeras) (0.13.1)\n",
      "Requirement already satisfied: ml-dtypes in c:\\users\\raman\\anaconda3\\lib\\site-packages (from keras>=3.2.0->scikeras) (0.4.1)\n",
      "Requirement already satisfied: packaging in c:\\users\\raman\\anaconda3\\lib\\site-packages (from keras>=3.2.0->scikeras) (24.1)\n",
      "Requirement already satisfied: scipy>=1.6.0 in c:\\users\\raman\\anaconda3\\lib\\site-packages (from scikit-learn>=1.4.2->scikeras) (1.13.1)\n",
      "Requirement already satisfied: joblib>=1.2.0 in c:\\users\\raman\\anaconda3\\lib\\site-packages (from scikit-learn>=1.4.2->scikeras) (1.4.2)\n",
      "Requirement already satisfied: threadpoolctl>=3.1.0 in c:\\users\\raman\\anaconda3\\lib\\site-packages (from scikit-learn>=1.4.2->scikeras) (3.5.0)\n",
      "Requirement already satisfied: typing-extensions>=4.5.0 in c:\\users\\raman\\anaconda3\\lib\\site-packages (from optree->keras>=3.2.0->scikeras) (4.11.0)\n",
      "Requirement already satisfied: markdown-it-py>=2.2.0 in c:\\users\\raman\\anaconda3\\lib\\site-packages (from rich->keras>=3.2.0->scikeras) (2.2.0)\n",
      "Requirement already satisfied: pygments<3.0.0,>=2.13.0 in c:\\users\\raman\\anaconda3\\lib\\site-packages (from rich->keras>=3.2.0->scikeras) (2.15.1)\n",
      "Requirement already satisfied: mdurl~=0.1 in c:\\users\\raman\\anaconda3\\lib\\site-packages (from markdown-it-py>=2.2.0->rich->keras>=3.2.0->scikeras) (0.1.0)\n",
      "Note: you may need to restart the kernel to use updated packages.\n"
     ]
    }
   ],
   "source": [
    "pip install scikeras"
   ]
  },
  {
   "cell_type": "code",
   "execution_count": 25,
   "metadata": {
    "id": "kLWR1DfQPakn"
   },
   "outputs": [],
   "source": [
    "import pandas as pd\n",
    "import numpy as np\n",
    "from sklearn.model_selection import train_test_split\n",
    "from sklearn.preprocessing import OneHotEncoder, LabelEncoder\n",
    "from sklearn.preprocessing import MinMaxScaler\n",
    "from sklearn.compose import ColumnTransformer\n",
    "from sklearn.model_selection import train_test_split\n",
    "from sklearn.metrics import roc_auc_score\n",
    "from sklearn.metrics import RocCurveDisplay\n",
    "from keras.models import Sequential\n",
    "from keras.layers import Dense\n",
    "from scikeras.wrappers import KerasClassifier\n",
    "from sklearn.pipeline import Pipeline\n",
    "import matplotlib.pyplot as plt"
   ]
  },
  {
   "cell_type": "markdown",
   "metadata": {
    "id": "5ymxgnyq86hE"
   },
   "source": [
    "You can download the Adult data from the link [here](https://archive.ics.uci.edu/ml/machine-learning-databases/adult/adult.data).\n",
    "\n",
    "Here are your tasks:\n",
    "\n",
    "  1. Load the Adult data into a Pandas Dataframe.\n",
    "  2. Ensure the dataset has properly named columns. If the columns are not read in, assign them by referencing the dataset documentation.\n",
    "  3. Display the first five rows of the dataset."
   ]
  },
  {
   "cell_type": "code",
   "execution_count": 28,
   "metadata": {
    "id": "QmwdQy7pShig"
   },
   "outputs": [],
   "source": [
    "# Download the dataset and load it into a pandas DataFrame\n",
    "DATA_PATH = 'https://archive.ics.uci.edu/ml/machine-learning-databases/adult/adult.data'\n",
    "df = pd.read_csv(DATA_PATH, header=0)"
   ]
  },
  {
   "cell_type": "code",
   "execution_count": 30,
   "metadata": {
    "id": "X1wSIzVtPrfL"
   },
   "outputs": [
    {
     "data": {
      "text/html": [
       "<div>\n",
       "<style scoped>\n",
       "    .dataframe tbody tr th:only-of-type {\n",
       "        vertical-align: middle;\n",
       "    }\n",
       "\n",
       "    .dataframe tbody tr th {\n",
       "        vertical-align: top;\n",
       "    }\n",
       "\n",
       "    .dataframe thead th {\n",
       "        text-align: right;\n",
       "    }\n",
       "</style>\n",
       "<table border=\"1\" class=\"dataframe\">\n",
       "  <thead>\n",
       "    <tr style=\"text-align: right;\">\n",
       "      <th></th>\n",
       "      <th>age</th>\n",
       "      <th>workclass</th>\n",
       "      <th>fnlwgt</th>\n",
       "      <th>education</th>\n",
       "      <th>education-num</th>\n",
       "      <th>marital-status</th>\n",
       "      <th>occupation</th>\n",
       "      <th>relationship</th>\n",
       "      <th>race</th>\n",
       "      <th>sex</th>\n",
       "      <th>capital-gain</th>\n",
       "      <th>capital-loss</th>\n",
       "      <th>hours-per-week</th>\n",
       "      <th>native-country</th>\n",
       "      <th>income</th>\n",
       "    </tr>\n",
       "  </thead>\n",
       "  <tbody>\n",
       "    <tr>\n",
       "      <th>0</th>\n",
       "      <td>39</td>\n",
       "      <td>State-gov</td>\n",
       "      <td>77516</td>\n",
       "      <td>Bachelors</td>\n",
       "      <td>13</td>\n",
       "      <td>Never-married</td>\n",
       "      <td>Adm-clerical</td>\n",
       "      <td>Not-in-family</td>\n",
       "      <td>White</td>\n",
       "      <td>Male</td>\n",
       "      <td>2174</td>\n",
       "      <td>0</td>\n",
       "      <td>40</td>\n",
       "      <td>United-States</td>\n",
       "      <td>&lt;=50K</td>\n",
       "    </tr>\n",
       "    <tr>\n",
       "      <th>1</th>\n",
       "      <td>50</td>\n",
       "      <td>Self-emp-not-inc</td>\n",
       "      <td>83311</td>\n",
       "      <td>Bachelors</td>\n",
       "      <td>13</td>\n",
       "      <td>Married-civ-spouse</td>\n",
       "      <td>Exec-managerial</td>\n",
       "      <td>Husband</td>\n",
       "      <td>White</td>\n",
       "      <td>Male</td>\n",
       "      <td>0</td>\n",
       "      <td>0</td>\n",
       "      <td>13</td>\n",
       "      <td>United-States</td>\n",
       "      <td>&lt;=50K</td>\n",
       "    </tr>\n",
       "    <tr>\n",
       "      <th>2</th>\n",
       "      <td>38</td>\n",
       "      <td>Private</td>\n",
       "      <td>215646</td>\n",
       "      <td>HS-grad</td>\n",
       "      <td>9</td>\n",
       "      <td>Divorced</td>\n",
       "      <td>Handlers-cleaners</td>\n",
       "      <td>Not-in-family</td>\n",
       "      <td>White</td>\n",
       "      <td>Male</td>\n",
       "      <td>0</td>\n",
       "      <td>0</td>\n",
       "      <td>40</td>\n",
       "      <td>United-States</td>\n",
       "      <td>&lt;=50K</td>\n",
       "    </tr>\n",
       "    <tr>\n",
       "      <th>3</th>\n",
       "      <td>53</td>\n",
       "      <td>Private</td>\n",
       "      <td>234721</td>\n",
       "      <td>11th</td>\n",
       "      <td>7</td>\n",
       "      <td>Married-civ-spouse</td>\n",
       "      <td>Handlers-cleaners</td>\n",
       "      <td>Husband</td>\n",
       "      <td>Black</td>\n",
       "      <td>Male</td>\n",
       "      <td>0</td>\n",
       "      <td>0</td>\n",
       "      <td>40</td>\n",
       "      <td>United-States</td>\n",
       "      <td>&lt;=50K</td>\n",
       "    </tr>\n",
       "    <tr>\n",
       "      <th>4</th>\n",
       "      <td>28</td>\n",
       "      <td>Private</td>\n",
       "      <td>338409</td>\n",
       "      <td>Bachelors</td>\n",
       "      <td>13</td>\n",
       "      <td>Married-civ-spouse</td>\n",
       "      <td>Prof-specialty</td>\n",
       "      <td>Wife</td>\n",
       "      <td>Black</td>\n",
       "      <td>Female</td>\n",
       "      <td>0</td>\n",
       "      <td>0</td>\n",
       "      <td>40</td>\n",
       "      <td>Cuba</td>\n",
       "      <td>&lt;=50K</td>\n",
       "    </tr>\n",
       "  </tbody>\n",
       "</table>\n",
       "</div>"
      ],
      "text/plain": [
       "   age          workclass  fnlwgt   education  education-num  \\\n",
       "0   39          State-gov   77516   Bachelors             13   \n",
       "1   50   Self-emp-not-inc   83311   Bachelors             13   \n",
       "2   38            Private  215646     HS-grad              9   \n",
       "3   53            Private  234721        11th              7   \n",
       "4   28            Private  338409   Bachelors             13   \n",
       "\n",
       "        marital-status          occupation    relationship    race      sex  \\\n",
       "0        Never-married        Adm-clerical   Not-in-family   White     Male   \n",
       "1   Married-civ-spouse     Exec-managerial         Husband   White     Male   \n",
       "2             Divorced   Handlers-cleaners   Not-in-family   White     Male   \n",
       "3   Married-civ-spouse   Handlers-cleaners         Husband   Black     Male   \n",
       "4   Married-civ-spouse      Prof-specialty            Wife   Black   Female   \n",
       "\n",
       "   capital-gain  capital-loss  hours-per-week  native-country  income  \n",
       "0          2174             0              40   United-States   <=50K  \n",
       "1             0             0              13   United-States   <=50K  \n",
       "2             0             0              40   United-States   <=50K  \n",
       "3             0             0              40   United-States   <=50K  \n",
       "4             0             0              40            Cuba   <=50K  "
      ]
     },
     "execution_count": 30,
     "metadata": {},
     "output_type": "execute_result"
    }
   ],
   "source": [
    "# Display the first few rows of the DataFrame\n",
    "#df.head()\n",
    "column_names = ['age', 'workclass', 'fnlwgt', 'education', 'education-num', 'marital-status', 'occupation', 'relationship', 'race', 'sex', 'capital-gain', 'capital-loss', 'hours-per-week', 'native-country', 'income'] \n",
    "df = pd.read_csv(DATA_PATH, names=column_names)\n",
    "df.head(5)"
   ]
  },
  {
   "cell_type": "markdown",
   "metadata": {
    "id": "5fHLuKZl9ivm"
   },
   "source": [
    "If you're not already familiar with the Adult dataset, it's important to do some exploratory data analysis.\n",
    "\n",
    "Here are your tasks:\n",
    "\n",
    "  1. Do exploratory data analysis to give you some better intuition for the dataset. This is a bit open-ended. How many rows/columns are there? How are NULL values represented? What's the percentage of positive cases in the dataset?\n",
    "\n",
    "  2. Drop all rows with NULL values.\n",
    "\n",
    "  3. Use Scikit-Learn's [LabelEncoder](https://scikit-learn.org/stable/modules/generated/sklearn.preprocessing.LabelEncoder.html) to convert the `income` column with a data type string to a binary variable."
   ]
  },
  {
   "cell_type": "code",
   "execution_count": 33,
   "metadata": {
    "id": "fc_s4kRKTloe"
   },
   "outputs": [
    {
     "name": "stdout",
     "output_type": "stream",
     "text": [
      "Rows: 32561, Columns: 15\n"
     ]
    }
   ],
   "source": [
    "# Do some exploratory analysis. How many rows/columns are there? How are NULL\n",
    "# values represented? What's the percentrage of positive cases in the dataset?\n",
    "rows, columns = df.shape\n",
    "print(f\"Rows: {rows}, Columns: {columns}\")"
   ]
  },
  {
   "cell_type": "code",
   "execution_count": 35,
   "metadata": {
    "id": "pZW7GRw3P0dT"
   },
   "outputs": [
    {
     "data": {
      "text/plain": [
       "age               0\n",
       "workclass         0\n",
       "fnlwgt            0\n",
       "education         0\n",
       "education-num     0\n",
       "marital-status    0\n",
       "occupation        0\n",
       "relationship      0\n",
       "race              0\n",
       "sex               0\n",
       "capital-gain      0\n",
       "capital-loss      0\n",
       "hours-per-week    0\n",
       "native-country    0\n",
       "income            0\n",
       "dtype: int64"
      ]
     },
     "execution_count": 35,
     "metadata": {},
     "output_type": "execute_result"
    }
   ],
   "source": [
    "# Find all NULL values and drop them\n",
    "df.isnull().sum()"
   ]
  },
  {
   "cell_type": "code",
   "execution_count": 37,
   "metadata": {
    "id": "BZ_mJT_DLZ-L"
   },
   "outputs": [
    {
     "data": {
      "text/html": [
       "<div>\n",
       "<style scoped>\n",
       "    .dataframe tbody tr th:only-of-type {\n",
       "        vertical-align: middle;\n",
       "    }\n",
       "\n",
       "    .dataframe tbody tr th {\n",
       "        vertical-align: top;\n",
       "    }\n",
       "\n",
       "    .dataframe thead th {\n",
       "        text-align: right;\n",
       "    }\n",
       "</style>\n",
       "<table border=\"1\" class=\"dataframe\">\n",
       "  <thead>\n",
       "    <tr style=\"text-align: right;\">\n",
       "      <th></th>\n",
       "      <th>age</th>\n",
       "      <th>workclass</th>\n",
       "      <th>fnlwgt</th>\n",
       "      <th>education</th>\n",
       "      <th>education-num</th>\n",
       "      <th>marital-status</th>\n",
       "      <th>occupation</th>\n",
       "      <th>relationship</th>\n",
       "      <th>race</th>\n",
       "      <th>sex</th>\n",
       "      <th>capital-gain</th>\n",
       "      <th>capital-loss</th>\n",
       "      <th>hours-per-week</th>\n",
       "      <th>native-country</th>\n",
       "      <th>income</th>\n",
       "    </tr>\n",
       "  </thead>\n",
       "  <tbody>\n",
       "    <tr>\n",
       "      <th>32556</th>\n",
       "      <td>27</td>\n",
       "      <td>Private</td>\n",
       "      <td>257302</td>\n",
       "      <td>Assoc-acdm</td>\n",
       "      <td>12</td>\n",
       "      <td>Married-civ-spouse</td>\n",
       "      <td>Tech-support</td>\n",
       "      <td>Wife</td>\n",
       "      <td>White</td>\n",
       "      <td>Female</td>\n",
       "      <td>0</td>\n",
       "      <td>0</td>\n",
       "      <td>38</td>\n",
       "      <td>United-States</td>\n",
       "      <td>0</td>\n",
       "    </tr>\n",
       "    <tr>\n",
       "      <th>32557</th>\n",
       "      <td>40</td>\n",
       "      <td>Private</td>\n",
       "      <td>154374</td>\n",
       "      <td>HS-grad</td>\n",
       "      <td>9</td>\n",
       "      <td>Married-civ-spouse</td>\n",
       "      <td>Machine-op-inspct</td>\n",
       "      <td>Husband</td>\n",
       "      <td>White</td>\n",
       "      <td>Male</td>\n",
       "      <td>0</td>\n",
       "      <td>0</td>\n",
       "      <td>40</td>\n",
       "      <td>United-States</td>\n",
       "      <td>1</td>\n",
       "    </tr>\n",
       "    <tr>\n",
       "      <th>32558</th>\n",
       "      <td>58</td>\n",
       "      <td>Private</td>\n",
       "      <td>151910</td>\n",
       "      <td>HS-grad</td>\n",
       "      <td>9</td>\n",
       "      <td>Widowed</td>\n",
       "      <td>Adm-clerical</td>\n",
       "      <td>Unmarried</td>\n",
       "      <td>White</td>\n",
       "      <td>Female</td>\n",
       "      <td>0</td>\n",
       "      <td>0</td>\n",
       "      <td>40</td>\n",
       "      <td>United-States</td>\n",
       "      <td>0</td>\n",
       "    </tr>\n",
       "    <tr>\n",
       "      <th>32559</th>\n",
       "      <td>22</td>\n",
       "      <td>Private</td>\n",
       "      <td>201490</td>\n",
       "      <td>HS-grad</td>\n",
       "      <td>9</td>\n",
       "      <td>Never-married</td>\n",
       "      <td>Adm-clerical</td>\n",
       "      <td>Own-child</td>\n",
       "      <td>White</td>\n",
       "      <td>Male</td>\n",
       "      <td>0</td>\n",
       "      <td>0</td>\n",
       "      <td>20</td>\n",
       "      <td>United-States</td>\n",
       "      <td>0</td>\n",
       "    </tr>\n",
       "    <tr>\n",
       "      <th>32560</th>\n",
       "      <td>52</td>\n",
       "      <td>Self-emp-inc</td>\n",
       "      <td>287927</td>\n",
       "      <td>HS-grad</td>\n",
       "      <td>9</td>\n",
       "      <td>Married-civ-spouse</td>\n",
       "      <td>Exec-managerial</td>\n",
       "      <td>Wife</td>\n",
       "      <td>White</td>\n",
       "      <td>Female</td>\n",
       "      <td>15024</td>\n",
       "      <td>0</td>\n",
       "      <td>40</td>\n",
       "      <td>United-States</td>\n",
       "      <td>1</td>\n",
       "    </tr>\n",
       "  </tbody>\n",
       "</table>\n",
       "</div>"
      ],
      "text/plain": [
       "       age      workclass  fnlwgt    education  education-num  \\\n",
       "32556   27        Private  257302   Assoc-acdm             12   \n",
       "32557   40        Private  154374      HS-grad              9   \n",
       "32558   58        Private  151910      HS-grad              9   \n",
       "32559   22        Private  201490      HS-grad              9   \n",
       "32560   52   Self-emp-inc  287927      HS-grad              9   \n",
       "\n",
       "            marital-status          occupation relationship    race      sex  \\\n",
       "32556   Married-civ-spouse        Tech-support         Wife   White   Female   \n",
       "32557   Married-civ-spouse   Machine-op-inspct      Husband   White     Male   \n",
       "32558              Widowed        Adm-clerical    Unmarried   White   Female   \n",
       "32559        Never-married        Adm-clerical    Own-child   White     Male   \n",
       "32560   Married-civ-spouse     Exec-managerial         Wife   White   Female   \n",
       "\n",
       "       capital-gain  capital-loss  hours-per-week  native-country  income  \n",
       "32556             0             0              38   United-States       0  \n",
       "32557             0             0              40   United-States       1  \n",
       "32558             0             0              40   United-States       0  \n",
       "32559             0             0              20   United-States       0  \n",
       "32560         15024             0              40   United-States       1  "
      ]
     },
     "execution_count": 37,
     "metadata": {},
     "output_type": "execute_result"
    }
   ],
   "source": [
    "# Use Scikit-Learn's LabelEncoder to convert the income column with a data type\n",
    "# string to a binary variable.\n",
    "le = LabelEncoder()\n",
    "df[\"income\"] = le.fit_transform(df['income'])\n",
    "#df.head()\n",
    "#df[df['income']] = 1\n",
    "#df.income.value_counts()\n",
    "df.tail(5)"
   ]
  },
  {
   "cell_type": "markdown",
   "metadata": {
    "id": "ibK0DxJsA1JH"
   },
   "source": [
    "1. Split the data into training and test sets. Remember not to include the label you're trying to predict, `income`, as a column in your training data."
   ]
  },
  {
   "cell_type": "code",
   "execution_count": 40,
   "metadata": {
    "id": "1whzL6K7J-zq"
   },
   "outputs": [],
   "source": [
    "# Split dataset into training and test sets\n",
    "X = df.drop('income', axis='columns')\n",
    "y = df['income']\n",
    "X_train, X_test, y_train, y_test = train_test_split(X, y, test_size=0.2, random_state=10)"
   ]
  },
  {
   "cell_type": "markdown",
   "metadata": {
    "id": "HMsXM6B_BX5k"
   },
   "source": [
    "In machine learning, the Receiver Operating Characteristic (ROC) curve and the Area Under the Curve (AUC) metric are commonly used to evaluate the performance of binary classification models. These are valuable tools for understanding how well a model can distinguish between the positive and negative classes in a classification problem.\n",
    "\n",
    "Let's break down each concept:\n",
    "\n",
    "1. ROC Curve:\n",
    "The ROC curve is a graphical representation of a binary classifier's performance as the discrimination threshold is varied. It is created by plotting the True Positive Rate (TPR) against the False Positive Rate (FPR) at different threshold values. Here's how these rates are calculated:\n",
    "\n",
    "- True Positive Rate (TPR), also called Sensitivity or Recall, measures the proportion of actual positive instances that are correctly identified by the model:\n",
    "   TPR = True Positives / (True Positives + False Negatives)\n",
    "\n",
    "- False Positive Rate (FPR) measures the proportion of actual negative instances that are incorrectly classified as positive by the model:\n",
    "   FPR = False Positives / (False Positives + True Negatives)\n",
    "\n",
    "The ROC curve is useful because it shows how well a classifier can trade off between sensitivity and specificity across different threshold values. The ideal ROC curve hugs the top-left corner, indicating a high TPR and low FPR, meaning the classifier is excellent at distinguishing between the two classes.\n",
    "\n",
    "2. AUC (Area Under the Curve):\n",
    "The AUC is a scalar metric derived from the ROC curve. It represents the area under the ROC curve, hence its name. The AUC ranges from 0 to 1, where 0 indicates a very poor classifier (always predicting the opposite class) and 1 signifies a perfect classifier (making all correct predictions).\n",
    "\n",
    "The AUC metric is beneficial because it provides a single value to summarize the classifier's overall performance across all possible threshold values. It is particularly useful when dealing with imbalanced datasets, where one class significantly outnumbers the other. In such cases, accuracy alone might not be a reliable evaluation metric, and AUC can provide a more robust performance measure.\n",
    "\n",
    "A quick rule of thumb for interpreting AUC values:\n",
    "- AUC ≈ 0.5: The model performs no better than random guessing.\n",
    "- 0.5 < AUC < 0.7: The model has poor to fair performance.\n",
    "- 0.7 < AUC < 0.9: The model has good to excellent performance.\n",
    "- AUC ≈ 1: The model is close to or has a perfect performance."
   ]
  },
  {
   "cell_type": "markdown",
   "metadata": {
    "id": "NDGgBVEKEYKi"
   },
   "source": [
    "Here are your tasks:\n",
    "\n",
    "  1. Use Scikit-Learn's [roc_auc_score](https://scikit-learn.org/stable/modules/generated/sklearn.metrics.roc_auc_score.html) to calculate the AUC score for a method that always predicts the majority class.  "
   ]
  },
  {
   "cell_type": "code",
   "execution_count": 44,
   "metadata": {
    "id": "s00Xs8bqUZnn"
   },
   "outputs": [
    {
     "name": "stdout",
     "output_type": "stream",
     "text": [
      "0\n"
     ]
    }
   ],
   "source": [
    "# Use Scikit-Learn's roc_auc_score to calculate the AUC score for a method that\n",
    "# always predicts the majority class.\n",
    "majority_class = df['income'].value_counts().idxmax()\n",
    "print(majority_class)"
   ]
  },
  {
   "cell_type": "markdown",
   "metadata": {
    "id": "uWSiYNarF2t_"
   },
   "source": [
    "Now, let's do a little feature engineering.\n",
    "\n",
    "1. Use Scikit-Learn's [ColumnTransformer](https://scikit-learn.org/stable/modules/generated/sklearn.compose.ColumnTransformer.html) to apply One Hot Encoding to the categorical variables in `workclass`, `education`, `marital-status`, `occupation`, `relationship`, 'race', `sex`, and `native-country`. Also, apply [MinMaxScaler](https://scikit-learn.org/stable/modules/generated/sklearn.preprocessing.MinMaxScaler.html) to the remaining continuous features. How many columns will the dataframe have after these columns transformations are applied?"
   ]
  },
  {
   "cell_type": "code",
   "execution_count": 47,
   "metadata": {
    "id": "4DybgGJyW-3Q"
   },
   "outputs": [],
   "source": [
    "# Use Scikit-Learn's ColumnTransformer to apply One Hot Encoding to the\n",
    "# categorical variables in workclass, education, marital-status, occupation,\n",
    "# relationship, 'race', sex, and native-country. #Also, apply MinMaxScaler to\n",
    "# the remaining continuous features.\n",
    "continuous_transform = MinMaxScaler()\n",
    "categorical_transform = OneHotEncoder()\n",
    "categorical_features = ['workclass', 'education', 'marital-status', 'occupation', 'relationship', 'race', 'sex', 'native-country']\n",
    "continuous_features = ['age', 'fnlwgt', 'education-num', 'capital-gain', 'capital-loss', 'hours-per-week']\n",
    "\n",
    "transformer = ColumnTransformer(transformers=[('continuous', continuous_transform, continuous_features), ('categorical', categorical_transform, categorical_features)])\n",
    "X_train_preprocessed = transformer.fit_transform(X_train)\n",
    "X_test_preprocessed = transformer.fit_transform(X_test)"
   ]
  },
  {
   "cell_type": "code",
   "execution_count": 57,
   "metadata": {
    "id": "emfaqHwvKfLU"
   },
   "outputs": [
    {
     "name": "stdout",
     "output_type": "stream",
     "text": [
      "Train data preprocessed (26048, 108)\n",
      "Test data preprocessed (6513, 107)\n"
     ]
    }
   ],
   "source": [
    "# How many columns will the dataframe have after these columns transformations are applied?\n",
    "print('Train data preprocessed ' + str(X_train_preprocessed.shape))\n",
    "print('Test data preprocessed ' + str(X_test_preprocessed.shape))"
   ]
  },
  {
   "cell_type": "markdown",
   "metadata": {
    "id": "AtoqTz5rGuET"
   },
   "source": [
    "Keras is an open-source deep learning library written in Python. It was developed to provide a user-friendly, high-level interface for building and training neural networks. The library was created by François Chollet and was first released in March 2015 as part of the Deeplearning4j project. Later, it became part of the TensorFlow ecosystem and is now the official high-level API for TensorFlow.\n",
    "\n",
    "Keras is designed to be modular, user-friendly, and easy to extend. It allows researchers and developers to quickly prototype and experiment with various deep learning models. One of the primary goals of Keras is to enable fast experimentation, making it simple to build and iterate on different architectures.\n",
    "\n",
    "Key features of Keras include:\n",
    "\n",
    "1. User-friendly API: Keras provides a simple and intuitive interface for defining and training deep learning models. Its design philosophy focuses on ease of use and clarity of code.\n",
    "\n",
    "2. Modularity: Models in Keras are built as a sequence of layers, and users can easily stack, merge, or create complex architectures using a wide range of predefined layers.\n",
    "\n",
    "3. Extensibility: Keras allows users to define custom layers, loss functions, and metrics. This flexibility enables researchers to experiment with new ideas and algorithms seamlessly.\n",
    "\n",
    "4. Backends: Initially, Keras supported multiple backends, including TensorFlow, Theano, and CNTK. However, as of TensorFlow version 2.0, TensorFlow has become the primary backend for Keras.\n",
    "\n",
    "5. Multi-GPU and distributed training: Keras supports training models on multiple GPUs and in distributed computing environments, making it suitable for large-scale experiments.\n",
    "\n",
    "6. Pre-trained models: Keras includes a collection of pre-trained models for common tasks, such as image classification (e.g., VGG, ResNet, MobileNet) and natural language processing (e.g., Word2Vec, GloVe).\n",
    "\n",
    "The integration of Keras into TensorFlow as its official high-level API has solidified its position as one of the most popular deep learning libraries in the machine learning community. Its ease of use and versatility have contributed to its widespread adoption in both academia and industry for a wide range of deep learning tasks."
   ]
  },
  {
   "cell_type": "markdown",
   "metadata": {
    "id": "HVUa0h83HU24"
   },
   "source": [
    "Here are your tasks:\n",
    "\n",
    "1. Create your own model in Keras to predict income in the Adult training data. Remember, it's always better to start simple and add complexity to the model if necessary. What's a good loss function to use?\n",
    "\n",
    "2. Keras can be integrated with Scitkit-Learn using a wrapper. Use the [KerasClassifier wrapper](https://adriangb.com/scikeras/stable/generated/scikeras.wrappers.KerasClassifier.html) to integrate your Keras model with the ColumnTransformer from previous steps using a [Pipeline](https://scikit-learn.org/stable/modules/generated/sklearn.pipeline.Pipeline.html) object.\n",
    "\n",
    "3. Fit your model.\n",
    "\n",
    "4. Calculate the AUC score of your model on the test data. Does the model predict better than random?\n",
    "\n",
    "5. Generate an ROC curve for your model using [RocCurveDisplay](https://scikit-learn.org/stable/modules/generated/sklearn.metrics.RocCurveDisplay.html). What would the curve look like if all your predictions were randomly generated? What would the curve look like if it you had a perfect model?"
   ]
  },
  {
   "cell_type": "code",
   "execution_count": 59,
   "metadata": {
    "id": "h2xIpLlXQEcx"
   },
   "outputs": [],
   "source": [
    "# Define the Keras model\n",
    "def create_model(input_shape):\n",
    "    model = Sequential()\n",
    "    model.add(Dense(32, input_shape = input_shape, activation = 'relu'))\n",
    "    model.add(Dense(16, activation = 'relu'))\n",
    "    model.add(Dense(1, activation = 'sigmoid'))\n",
    "    model.compile(optimizer='adam', loss='binary_crossentropy', metrics=['accuracy'])\n",
    "    return model"
   ]
  },
  {
   "cell_type": "code",
   "execution_count": 61,
   "metadata": {},
   "outputs": [
    {
     "name": "stderr",
     "output_type": "stream",
     "text": [
      "C:\\Users\\raman\\anaconda3\\Lib\\site-packages\\keras\\src\\layers\\core\\dense.py:87: UserWarning: Do not pass an `input_shape`/`input_dim` argument to a layer. When using Sequential models, prefer using an `Input(shape)` object as the first layer in the model instead.\n",
      "  super().__init__(activity_regularizer=activity_regularizer, **kwargs)\n"
     ]
    },
    {
     "data": {
      "text/html": [
       "<pre style=\"white-space:pre;overflow-x:auto;line-height:normal;font-family:Menlo,'DejaVu Sans Mono',consolas,'Courier New',monospace\"><span style=\"font-weight: bold\">Model: \"sequential\"</span>\n",
       "</pre>\n"
      ],
      "text/plain": [
       "\u001b[1mModel: \"sequential\"\u001b[0m\n"
      ]
     },
     "metadata": {},
     "output_type": "display_data"
    },
    {
     "data": {
      "text/html": [
       "<pre style=\"white-space:pre;overflow-x:auto;line-height:normal;font-family:Menlo,'DejaVu Sans Mono',consolas,'Courier New',monospace\">┏━━━━━━━━━━━━━━━━━━━━━━━━━━━━━━━━━━━━━━┳━━━━━━━━━━━━━━━━━━━━━━━━━━━━━┳━━━━━━━━━━━━━━━━━┓\n",
       "┃<span style=\"font-weight: bold\"> Layer (type)                         </span>┃<span style=\"font-weight: bold\"> Output Shape                </span>┃<span style=\"font-weight: bold\">         Param # </span>┃\n",
       "┡━━━━━━━━━━━━━━━━━━━━━━━━━━━━━━━━━━━━━━╇━━━━━━━━━━━━━━━━━━━━━━━━━━━━━╇━━━━━━━━━━━━━━━━━┩\n",
       "│ dense (<span style=\"color: #0087ff; text-decoration-color: #0087ff\">Dense</span>)                        │ (<span style=\"color: #00d7ff; text-decoration-color: #00d7ff\">None</span>, <span style=\"color: #00af00; text-decoration-color: #00af00\">26048</span>, <span style=\"color: #00af00; text-decoration-color: #00af00\">32</span>)           │           <span style=\"color: #00af00; text-decoration-color: #00af00\">3,488</span> │\n",
       "├──────────────────────────────────────┼─────────────────────────────┼─────────────────┤\n",
       "│ dense_1 (<span style=\"color: #0087ff; text-decoration-color: #0087ff\">Dense</span>)                      │ (<span style=\"color: #00d7ff; text-decoration-color: #00d7ff\">None</span>, <span style=\"color: #00af00; text-decoration-color: #00af00\">26048</span>, <span style=\"color: #00af00; text-decoration-color: #00af00\">16</span>)           │             <span style=\"color: #00af00; text-decoration-color: #00af00\">528</span> │\n",
       "├──────────────────────────────────────┼─────────────────────────────┼─────────────────┤\n",
       "│ dense_2 (<span style=\"color: #0087ff; text-decoration-color: #0087ff\">Dense</span>)                      │ (<span style=\"color: #00d7ff; text-decoration-color: #00d7ff\">None</span>, <span style=\"color: #00af00; text-decoration-color: #00af00\">26048</span>, <span style=\"color: #00af00; text-decoration-color: #00af00\">1</span>)            │              <span style=\"color: #00af00; text-decoration-color: #00af00\">17</span> │\n",
       "└──────────────────────────────────────┴─────────────────────────────┴─────────────────┘\n",
       "</pre>\n"
      ],
      "text/plain": [
       "┏━━━━━━━━━━━━━━━━━━━━━━━━━━━━━━━━━━━━━━┳━━━━━━━━━━━━━━━━━━━━━━━━━━━━━┳━━━━━━━━━━━━━━━━━┓\n",
       "┃\u001b[1m \u001b[0m\u001b[1mLayer (type)                        \u001b[0m\u001b[1m \u001b[0m┃\u001b[1m \u001b[0m\u001b[1mOutput Shape               \u001b[0m\u001b[1m \u001b[0m┃\u001b[1m \u001b[0m\u001b[1m        Param #\u001b[0m\u001b[1m \u001b[0m┃\n",
       "┡━━━━━━━━━━━━━━━━━━━━━━━━━━━━━━━━━━━━━━╇━━━━━━━━━━━━━━━━━━━━━━━━━━━━━╇━━━━━━━━━━━━━━━━━┩\n",
       "│ dense (\u001b[38;5;33mDense\u001b[0m)                        │ (\u001b[38;5;45mNone\u001b[0m, \u001b[38;5;34m26048\u001b[0m, \u001b[38;5;34m32\u001b[0m)           │           \u001b[38;5;34m3,488\u001b[0m │\n",
       "├──────────────────────────────────────┼─────────────────────────────┼─────────────────┤\n",
       "│ dense_1 (\u001b[38;5;33mDense\u001b[0m)                      │ (\u001b[38;5;45mNone\u001b[0m, \u001b[38;5;34m26048\u001b[0m, \u001b[38;5;34m16\u001b[0m)           │             \u001b[38;5;34m528\u001b[0m │\n",
       "├──────────────────────────────────────┼─────────────────────────────┼─────────────────┤\n",
       "│ dense_2 (\u001b[38;5;33mDense\u001b[0m)                      │ (\u001b[38;5;45mNone\u001b[0m, \u001b[38;5;34m26048\u001b[0m, \u001b[38;5;34m1\u001b[0m)            │              \u001b[38;5;34m17\u001b[0m │\n",
       "└──────────────────────────────────────┴─────────────────────────────┴─────────────────┘\n"
      ]
     },
     "metadata": {},
     "output_type": "display_data"
    },
    {
     "data": {
      "text/html": [
       "<pre style=\"white-space:pre;overflow-x:auto;line-height:normal;font-family:Menlo,'DejaVu Sans Mono',consolas,'Courier New',monospace\"><span style=\"font-weight: bold\"> Total params: </span><span style=\"color: #00af00; text-decoration-color: #00af00\">4,033</span> (15.75 KB)\n",
       "</pre>\n"
      ],
      "text/plain": [
       "\u001b[1m Total params: \u001b[0m\u001b[38;5;34m4,033\u001b[0m (15.75 KB)\n"
      ]
     },
     "metadata": {},
     "output_type": "display_data"
    },
    {
     "data": {
      "text/html": [
       "<pre style=\"white-space:pre;overflow-x:auto;line-height:normal;font-family:Menlo,'DejaVu Sans Mono',consolas,'Courier New',monospace\"><span style=\"font-weight: bold\"> Trainable params: </span><span style=\"color: #00af00; text-decoration-color: #00af00\">4,033</span> (15.75 KB)\n",
       "</pre>\n"
      ],
      "text/plain": [
       "\u001b[1m Trainable params: \u001b[0m\u001b[38;5;34m4,033\u001b[0m (15.75 KB)\n"
      ]
     },
     "metadata": {},
     "output_type": "display_data"
    },
    {
     "data": {
      "text/html": [
       "<pre style=\"white-space:pre;overflow-x:auto;line-height:normal;font-family:Menlo,'DejaVu Sans Mono',consolas,'Courier New',monospace\"><span style=\"font-weight: bold\"> Non-trainable params: </span><span style=\"color: #00af00; text-decoration-color: #00af00\">0</span> (0.00 B)\n",
       "</pre>\n"
      ],
      "text/plain": [
       "\u001b[1m Non-trainable params: \u001b[0m\u001b[38;5;34m0\u001b[0m (0.00 B)\n"
      ]
     },
     "metadata": {},
     "output_type": "display_data"
    }
   ],
   "source": [
    "create_model(X_train_preprocessed.shape).summary()"
   ]
  },
  {
   "cell_type": "code",
   "execution_count": 63,
   "metadata": {},
   "outputs": [],
   "source": [
    "input_shape = (X_train_preprocessed.shape[1], )"
   ]
  },
  {
   "cell_type": "code",
   "execution_count": 67,
   "metadata": {
    "id": "Rz-m2LhrQGud"
   },
   "outputs": [],
   "source": [
    "# Create a Keras classifier\n",
    "from tensorflow.keras.callbacks import Callback\n",
    "\n",
    "class HistoryCallback(Callback):\n",
    "    def on_train_begin(self, logs=None):\n",
    "        self.history = {'loss': [], 'accuracy': []}\n",
    "\n",
    "    def on_epoch_end(self, epoch, logs=None):\n",
    "        self.history['loss'].append(logs.get('loss'))\n",
    "        self.history['accuracy'].append(logs.get('accuracy'))\n",
    "\n",
    "history_callback = HistoryCallback()\n",
    "\n",
    "classifier = KerasClassifier(model=create_model, model__input_shape = input_shape, epochs=150, batch_size=16, verbose=2, callbacks=[history_callback])"
   ]
  },
  {
   "cell_type": "code",
   "execution_count": 69,
   "metadata": {
    "id": "VKxkil7QQJ6n"
   },
   "outputs": [],
   "source": [
    "# Create the scikit-learn pipeline\n",
    "pipeline = Pipeline([('preprocessor', transformer), ('classifier', classifier)])"
   ]
  },
  {
   "cell_type": "code",
   "execution_count": 71,
   "metadata": {
    "id": "25O8ZLleGQnk"
   },
   "outputs": [
    {
     "name": "stderr",
     "output_type": "stream",
     "text": [
      "C:\\Users\\raman\\anaconda3\\Lib\\site-packages\\keras\\src\\layers\\core\\dense.py:87: UserWarning: Do not pass an `input_shape`/`input_dim` argument to a layer. When using Sequential models, prefer using an `Input(shape)` object as the first layer in the model instead.\n",
      "  super().__init__(activity_regularizer=activity_regularizer, **kwargs)\n"
     ]
    },
    {
     "name": "stdout",
     "output_type": "stream",
     "text": [
      "Epoch 1/150\n",
      "1628/1628 - 8s - 5ms/step - accuracy: 0.8300 - loss: 0.3642\n",
      "Epoch 2/150\n",
      "1628/1628 - 11s - 7ms/step - accuracy: 0.8449 - loss: 0.3318\n",
      "Epoch 3/150\n",
      "1628/1628 - 5s - 3ms/step - accuracy: 0.8504 - loss: 0.3209\n",
      "Epoch 4/150\n",
      "1628/1628 - 6s - 4ms/step - accuracy: 0.8530 - loss: 0.3154\n",
      "Epoch 5/150\n",
      "1628/1628 - 9s - 6ms/step - accuracy: 0.8534 - loss: 0.3127\n",
      "Epoch 6/150\n",
      "1628/1628 - 6s - 4ms/step - accuracy: 0.8547 - loss: 0.3098\n",
      "Epoch 7/150\n",
      "1628/1628 - 6s - 4ms/step - accuracy: 0.8562 - loss: 0.3076\n",
      "Epoch 8/150\n",
      "1628/1628 - 6s - 3ms/step - accuracy: 0.8571 - loss: 0.3053\n",
      "Epoch 9/150\n",
      "1628/1628 - 6s - 4ms/step - accuracy: 0.8582 - loss: 0.3029\n",
      "Epoch 10/150\n",
      "1628/1628 - 6s - 4ms/step - accuracy: 0.8595 - loss: 0.3010\n",
      "Epoch 11/150\n",
      "1628/1628 - 6s - 4ms/step - accuracy: 0.8602 - loss: 0.2982\n",
      "Epoch 12/150\n",
      "1628/1628 - 6s - 4ms/step - accuracy: 0.8613 - loss: 0.2971\n",
      "Epoch 13/150\n",
      "1628/1628 - 6s - 4ms/step - accuracy: 0.8617 - loss: 0.2950\n",
      "Epoch 14/150\n",
      "1628/1628 - 6s - 4ms/step - accuracy: 0.8634 - loss: 0.2931\n",
      "Epoch 15/150\n",
      "1628/1628 - 6s - 4ms/step - accuracy: 0.8622 - loss: 0.2915\n",
      "Epoch 16/150\n",
      "1628/1628 - 5s - 3ms/step - accuracy: 0.8632 - loss: 0.2893\n",
      "Epoch 17/150\n",
      "1628/1628 - 6s - 4ms/step - accuracy: 0.8643 - loss: 0.2883\n",
      "Epoch 18/150\n",
      "1628/1628 - 10s - 6ms/step - accuracy: 0.8655 - loss: 0.2855\n",
      "Epoch 19/150\n",
      "1628/1628 - 6s - 4ms/step - accuracy: 0.8655 - loss: 0.2852\n",
      "Epoch 20/150\n",
      "1628/1628 - 6s - 4ms/step - accuracy: 0.8663 - loss: 0.2835\n",
      "Epoch 21/150\n",
      "1628/1628 - 5s - 3ms/step - accuracy: 0.8673 - loss: 0.2817\n",
      "Epoch 22/150\n",
      "1628/1628 - 6s - 4ms/step - accuracy: 0.8669 - loss: 0.2816\n",
      "Epoch 23/150\n",
      "1628/1628 - 6s - 3ms/step - accuracy: 0.8697 - loss: 0.2796\n",
      "Epoch 24/150\n",
      "1628/1628 - 6s - 4ms/step - accuracy: 0.8692 - loss: 0.2790\n",
      "Epoch 25/150\n",
      "1628/1628 - 6s - 4ms/step - accuracy: 0.8691 - loss: 0.2776\n",
      "Epoch 26/150\n",
      "1628/1628 - 10s - 6ms/step - accuracy: 0.8704 - loss: 0.2768\n",
      "Epoch 27/150\n",
      "1628/1628 - 10s - 6ms/step - accuracy: 0.8716 - loss: 0.2752\n",
      "Epoch 28/150\n",
      "1628/1628 - 6s - 3ms/step - accuracy: 0.8724 - loss: 0.2735\n",
      "Epoch 29/150\n",
      "1628/1628 - 6s - 4ms/step - accuracy: 0.8709 - loss: 0.2727\n",
      "Epoch 30/150\n",
      "1628/1628 - 10s - 6ms/step - accuracy: 0.8718 - loss: 0.2721\n",
      "Epoch 31/150\n",
      "1628/1628 - 10s - 6ms/step - accuracy: 0.8719 - loss: 0.2722\n",
      "Epoch 32/150\n",
      "1628/1628 - 5s - 3ms/step - accuracy: 0.8714 - loss: 0.2709\n",
      "Epoch 33/150\n",
      "1628/1628 - 5s - 3ms/step - accuracy: 0.8728 - loss: 0.2697\n",
      "Epoch 34/150\n",
      "1628/1628 - 6s - 4ms/step - accuracy: 0.8726 - loss: 0.2691\n",
      "Epoch 35/150\n",
      "1628/1628 - 6s - 3ms/step - accuracy: 0.8729 - loss: 0.2687\n",
      "Epoch 36/150\n",
      "1628/1628 - 6s - 4ms/step - accuracy: 0.8735 - loss: 0.2670\n",
      "Epoch 37/150\n",
      "1628/1628 - 5s - 3ms/step - accuracy: 0.8741 - loss: 0.2662\n",
      "Epoch 38/150\n",
      "1628/1628 - 6s - 4ms/step - accuracy: 0.8741 - loss: 0.2657\n",
      "Epoch 39/150\n",
      "1628/1628 - 10s - 6ms/step - accuracy: 0.8761 - loss: 0.2655\n",
      "Epoch 40/150\n",
      "1628/1628 - 7s - 4ms/step - accuracy: 0.8753 - loss: 0.2647\n",
      "Epoch 41/150\n",
      "1628/1628 - 8s - 5ms/step - accuracy: 0.8757 - loss: 0.2640\n",
      "Epoch 42/150\n",
      "1628/1628 - 10s - 6ms/step - accuracy: 0.8755 - loss: 0.2629\n",
      "Epoch 43/150\n",
      "1628/1628 - 8s - 5ms/step - accuracy: 0.8764 - loss: 0.2623\n",
      "Epoch 44/150\n",
      "1628/1628 - 7s - 4ms/step - accuracy: 0.8772 - loss: 0.2620\n",
      "Epoch 45/150\n",
      "1628/1628 - 7s - 4ms/step - accuracy: 0.8760 - loss: 0.2607\n",
      "Epoch 46/150\n",
      "1628/1628 - 7s - 4ms/step - accuracy: 0.8771 - loss: 0.2605\n",
      "Epoch 47/150\n",
      "1628/1628 - 7s - 4ms/step - accuracy: 0.8765 - loss: 0.2597\n",
      "Epoch 48/150\n",
      "1628/1628 - 7s - 4ms/step - accuracy: 0.8773 - loss: 0.2592\n",
      "Epoch 49/150\n",
      "1628/1628 - 7s - 4ms/step - accuracy: 0.8782 - loss: 0.2587\n",
      "Epoch 50/150\n",
      "1628/1628 - 9s - 6ms/step - accuracy: 0.8785 - loss: 0.2579\n",
      "Epoch 51/150\n",
      "1628/1628 - 8s - 5ms/step - accuracy: 0.8793 - loss: 0.2568\n",
      "Epoch 52/150\n",
      "1628/1628 - 6s - 4ms/step - accuracy: 0.8795 - loss: 0.2573\n",
      "Epoch 53/150\n",
      "1628/1628 - 6s - 4ms/step - accuracy: 0.8776 - loss: 0.2569\n",
      "Epoch 54/150\n",
      "1628/1628 - 7s - 4ms/step - accuracy: 0.8793 - loss: 0.2560\n",
      "Epoch 55/150\n",
      "1628/1628 - 10s - 6ms/step - accuracy: 0.8789 - loss: 0.2553\n",
      "Epoch 56/150\n",
      "1628/1628 - 10s - 6ms/step - accuracy: 0.8801 - loss: 0.2544\n",
      "Epoch 57/150\n",
      "1628/1628 - 7s - 4ms/step - accuracy: 0.8786 - loss: 0.2547\n",
      "Epoch 58/150\n",
      "1628/1628 - 6s - 4ms/step - accuracy: 0.8804 - loss: 0.2538\n",
      "Epoch 59/150\n",
      "1628/1628 - 6s - 4ms/step - accuracy: 0.8800 - loss: 0.2533\n",
      "Epoch 60/150\n",
      "1628/1628 - 14s - 8ms/step - accuracy: 0.8804 - loss: 0.2535\n",
      "Epoch 61/150\n",
      "1628/1628 - 7s - 4ms/step - accuracy: 0.8802 - loss: 0.2526\n",
      "Epoch 62/150\n",
      "1628/1628 - 7s - 4ms/step - accuracy: 0.8813 - loss: 0.2524\n",
      "Epoch 63/150\n",
      "1628/1628 - 10s - 6ms/step - accuracy: 0.8817 - loss: 0.2515\n",
      "Epoch 64/150\n",
      "1628/1628 - 6s - 4ms/step - accuracy: 0.8805 - loss: 0.2510\n",
      "Epoch 65/150\n",
      "1628/1628 - 7s - 4ms/step - accuracy: 0.8805 - loss: 0.2510\n",
      "Epoch 66/150\n",
      "1628/1628 - 7s - 4ms/step - accuracy: 0.8801 - loss: 0.2504\n",
      "Epoch 67/150\n",
      "1628/1628 - 7s - 4ms/step - accuracy: 0.8802 - loss: 0.2501\n",
      "Epoch 68/150\n",
      "1628/1628 - 10s - 6ms/step - accuracy: 0.8817 - loss: 0.2491\n",
      "Epoch 69/150\n",
      "1628/1628 - 10s - 6ms/step - accuracy: 0.8813 - loss: 0.2490\n",
      "Epoch 70/150\n",
      "1628/1628 - 10s - 6ms/step - accuracy: 0.8811 - loss: 0.2487\n",
      "Epoch 71/150\n",
      "1628/1628 - 7s - 4ms/step - accuracy: 0.8818 - loss: 0.2486\n",
      "Epoch 72/150\n",
      "1628/1628 - 6s - 4ms/step - accuracy: 0.8822 - loss: 0.2476\n",
      "Epoch 73/150\n",
      "1628/1628 - 7s - 4ms/step - accuracy: 0.8827 - loss: 0.2478\n",
      "Epoch 74/150\n",
      "1628/1628 - 6s - 4ms/step - accuracy: 0.8823 - loss: 0.2474\n",
      "Epoch 75/150\n",
      "1628/1628 - 5s - 3ms/step - accuracy: 0.8829 - loss: 0.2464\n",
      "Epoch 76/150\n",
      "1628/1628 - 6s - 4ms/step - accuracy: 0.8830 - loss: 0.2467\n",
      "Epoch 77/150\n",
      "1628/1628 - 6s - 4ms/step - accuracy: 0.8833 - loss: 0.2464\n",
      "Epoch 78/150\n",
      "1628/1628 - 6s - 3ms/step - accuracy: 0.8828 - loss: 0.2460\n",
      "Epoch 79/150\n",
      "1628/1628 - 11s - 7ms/step - accuracy: 0.8828 - loss: 0.2458\n",
      "Epoch 80/150\n",
      "1628/1628 - 6s - 4ms/step - accuracy: 0.8838 - loss: 0.2453\n",
      "Epoch 81/150\n",
      "1628/1628 - 6s - 4ms/step - accuracy: 0.8828 - loss: 0.2452\n",
      "Epoch 82/150\n",
      "1628/1628 - 10s - 6ms/step - accuracy: 0.8847 - loss: 0.2443\n",
      "Epoch 83/150\n",
      "1628/1628 - 10s - 6ms/step - accuracy: 0.8847 - loss: 0.2448\n",
      "Epoch 84/150\n",
      "1628/1628 - 5s - 3ms/step - accuracy: 0.8849 - loss: 0.2438\n",
      "Epoch 85/150\n",
      "1628/1628 - 6s - 4ms/step - accuracy: 0.8846 - loss: 0.2447\n",
      "Epoch 86/150\n",
      "1628/1628 - 6s - 4ms/step - accuracy: 0.8850 - loss: 0.2436\n",
      "Epoch 87/150\n",
      "1628/1628 - 6s - 4ms/step - accuracy: 0.8847 - loss: 0.2433\n",
      "Epoch 88/150\n",
      "1628/1628 - 6s - 4ms/step - accuracy: 0.8853 - loss: 0.2421\n",
      "Epoch 89/150\n",
      "1628/1628 - 5s - 3ms/step - accuracy: 0.8869 - loss: 0.2423\n",
      "Epoch 90/150\n",
      "1628/1628 - 6s - 4ms/step - accuracy: 0.8851 - loss: 0.2424\n",
      "Epoch 91/150\n",
      "1628/1628 - 10s - 6ms/step - accuracy: 0.8860 - loss: 0.2422\n",
      "Epoch 92/150\n",
      "1628/1628 - 6s - 4ms/step - accuracy: 0.8844 - loss: 0.2416\n",
      "Epoch 93/150\n",
      "1628/1628 - 10s - 6ms/step - accuracy: 0.8861 - loss: 0.2413\n",
      "Epoch 94/150\n",
      "1628/1628 - 6s - 4ms/step - accuracy: 0.8859 - loss: 0.2406\n",
      "Epoch 95/150\n",
      "1628/1628 - 6s - 4ms/step - accuracy: 0.8849 - loss: 0.2407\n",
      "Epoch 96/150\n",
      "1628/1628 - 5s - 3ms/step - accuracy: 0.8857 - loss: 0.2411\n",
      "Epoch 97/150\n",
      "1628/1628 - 6s - 4ms/step - accuracy: 0.8853 - loss: 0.2407\n",
      "Epoch 98/150\n",
      "1628/1628 - 10s - 6ms/step - accuracy: 0.8865 - loss: 0.2399\n",
      "Epoch 99/150\n",
      "1628/1628 - 11s - 7ms/step - accuracy: 0.8867 - loss: 0.2395\n",
      "Epoch 100/150\n",
      "1628/1628 - 5s - 3ms/step - accuracy: 0.8861 - loss: 0.2388\n",
      "Epoch 101/150\n",
      "1628/1628 - 6s - 4ms/step - accuracy: 0.8859 - loss: 0.2387\n",
      "Epoch 102/150\n",
      "1628/1628 - 6s - 4ms/step - accuracy: 0.8866 - loss: 0.2382\n",
      "Epoch 103/150\n",
      "1628/1628 - 5s - 3ms/step - accuracy: 0.8871 - loss: 0.2391\n",
      "Epoch 104/150\n",
      "1628/1628 - 6s - 4ms/step - accuracy: 0.8874 - loss: 0.2385\n",
      "Epoch 105/150\n",
      "1628/1628 - 10s - 6ms/step - accuracy: 0.8873 - loss: 0.2377\n",
      "Epoch 106/150\n",
      "1628/1628 - 11s - 7ms/step - accuracy: 0.8864 - loss: 0.2382\n",
      "Epoch 107/150\n",
      "1628/1628 - 5s - 3ms/step - accuracy: 0.8869 - loss: 0.2372\n",
      "Epoch 108/150\n",
      "1628/1628 - 6s - 4ms/step - accuracy: 0.8883 - loss: 0.2371\n",
      "Epoch 109/150\n",
      "1628/1628 - 6s - 4ms/step - accuracy: 0.8874 - loss: 0.2371\n",
      "Epoch 110/150\n",
      "1628/1628 - 6s - 3ms/step - accuracy: 0.8875 - loss: 0.2373\n",
      "Epoch 111/150\n",
      "1628/1628 - 6s - 4ms/step - accuracy: 0.8876 - loss: 0.2362\n",
      "Epoch 112/150\n",
      "1628/1628 - 5s - 3ms/step - accuracy: 0.8872 - loss: 0.2361\n",
      "Epoch 113/150\n",
      "1628/1628 - 6s - 4ms/step - accuracy: 0.8877 - loss: 0.2368\n",
      "Epoch 114/150\n",
      "1628/1628 - 10s - 6ms/step - accuracy: 0.8882 - loss: 0.2356\n",
      "Epoch 115/150\n",
      "1628/1628 - 6s - 4ms/step - accuracy: 0.8879 - loss: 0.2347\n",
      "Epoch 116/150\n",
      "1628/1628 - 6s - 4ms/step - accuracy: 0.8888 - loss: 0.2354\n",
      "Epoch 117/150\n",
      "1628/1628 - 10s - 6ms/step - accuracy: 0.8872 - loss: 0.2350\n",
      "Epoch 118/150\n",
      "1628/1628 - 6s - 4ms/step - accuracy: 0.8878 - loss: 0.2348\n",
      "Epoch 119/150\n",
      "1628/1628 - 10s - 6ms/step - accuracy: 0.8868 - loss: 0.2342\n",
      "Epoch 120/150\n",
      "1628/1628 - 6s - 4ms/step - accuracy: 0.8882 - loss: 0.2341\n",
      "Epoch 121/150\n",
      "1628/1628 - 10s - 6ms/step - accuracy: 0.8869 - loss: 0.2338\n",
      "Epoch 122/150\n",
      "1628/1628 - 10s - 6ms/step - accuracy: 0.8882 - loss: 0.2343\n",
      "Epoch 123/150\n",
      "1628/1628 - 6s - 4ms/step - accuracy: 0.8884 - loss: 0.2338\n",
      "Epoch 124/150\n",
      "1628/1628 - 10s - 6ms/step - accuracy: 0.8873 - loss: 0.2337\n",
      "Epoch 125/150\n",
      "1628/1628 - 6s - 4ms/step - accuracy: 0.8882 - loss: 0.2327\n",
      "Epoch 126/150\n",
      "1628/1628 - 6s - 4ms/step - accuracy: 0.8890 - loss: 0.2324\n",
      "Epoch 127/150\n",
      "1628/1628 - 10s - 6ms/step - accuracy: 0.8880 - loss: 0.2322\n",
      "Epoch 128/150\n",
      "1628/1628 - 6s - 4ms/step - accuracy: 0.8891 - loss: 0.2325\n",
      "Epoch 129/150\n",
      "1628/1628 - 10s - 6ms/step - accuracy: 0.8888 - loss: 0.2321\n",
      "Epoch 130/150\n",
      "1628/1628 - 6s - 4ms/step - accuracy: 0.8896 - loss: 0.2320\n",
      "Epoch 131/150\n",
      "1628/1628 - 10s - 6ms/step - accuracy: 0.8898 - loss: 0.2309\n",
      "Epoch 132/150\n",
      "1628/1628 - 9s - 6ms/step - accuracy: 0.8907 - loss: 0.2310\n",
      "Epoch 133/150\n",
      "1628/1628 - 6s - 4ms/step - accuracy: 0.8904 - loss: 0.2307\n",
      "Epoch 134/150\n",
      "1628/1628 - 10s - 6ms/step - accuracy: 0.8892 - loss: 0.2304\n",
      "Epoch 135/150\n",
      "1628/1628 - 6s - 4ms/step - accuracy: 0.8910 - loss: 0.2306\n",
      "Epoch 136/150\n",
      "1628/1628 - 6s - 4ms/step - accuracy: 0.8909 - loss: 0.2303\n",
      "Epoch 137/150\n",
      "1628/1628 - 5s - 3ms/step - accuracy: 0.8905 - loss: 0.2307\n",
      "Epoch 138/150\n",
      "1628/1628 - 6s - 4ms/step - accuracy: 0.8908 - loss: 0.2290\n",
      "Epoch 139/150\n",
      "1628/1628 - 6s - 4ms/step - accuracy: 0.8901 - loss: 0.2297\n",
      "Epoch 140/150\n",
      "1628/1628 - 10s - 6ms/step - accuracy: 0.8909 - loss: 0.2295\n",
      "Epoch 141/150\n",
      "1628/1628 - 10s - 6ms/step - accuracy: 0.8900 - loss: 0.2302\n",
      "Epoch 142/150\n",
      "1628/1628 - 6s - 4ms/step - accuracy: 0.8893 - loss: 0.2295\n",
      "Epoch 143/150\n",
      "1628/1628 - 6s - 4ms/step - accuracy: 0.8902 - loss: 0.2289\n",
      "Epoch 144/150\n",
      "1628/1628 - 5s - 3ms/step - accuracy: 0.8911 - loss: 0.2284\n",
      "Epoch 145/150\n",
      "1628/1628 - 6s - 4ms/step - accuracy: 0.8905 - loss: 0.2292\n",
      "Epoch 146/150\n",
      "1628/1628 - 6s - 4ms/step - accuracy: 0.8920 - loss: 0.2279\n",
      "Epoch 147/150\n",
      "1628/1628 - 5s - 3ms/step - accuracy: 0.8891 - loss: 0.2293\n",
      "Epoch 148/150\n",
      "1628/1628 - 6s - 4ms/step - accuracy: 0.8914 - loss: 0.2283\n",
      "Epoch 149/150\n",
      "1628/1628 - 6s - 4ms/step - accuracy: 0.8909 - loss: 0.2283\n",
      "Epoch 150/150\n",
      "1628/1628 - 6s - 3ms/step - accuracy: 0.8923 - loss: 0.2279\n"
     ]
    }
   ],
   "source": [
    "# Fit the pipeline on the training data\n",
    "model_history = pipeline.fit(X_train, y_train)\n",
    "#df.dtypes"
   ]
  },
  {
   "cell_type": "code",
   "execution_count": 73,
   "metadata": {
    "id": "SLcNQGVqNYbB"
   },
   "outputs": [
    {
     "name": "stdout",
     "output_type": "stream",
     "text": [
      "408/408 - 2s - 4ms/step\n",
      "408/408 - 1s - 4ms/step\n",
      "0.8843067774519388\n"
     ]
    }
   ],
   "source": [
    "# Calculate the AUC score of your model on the test data.\n",
    "# Does the model predict better than random?\n",
    "accuracy = model_history.score(X_test, y_test)\n",
    "y_pred_proba = model_history.predict_proba(X_test)[:, 1]\n",
    "roc_auc = roc_auc_score(y_test, y_pred_proba)\n",
    "print(roc_auc)"
   ]
  },
  {
   "cell_type": "code",
   "execution_count": 75,
   "metadata": {
    "id": "prJG9pr7PYIc"
   },
   "outputs": [
    {
     "data": {
      "image/png": "[encoded data removed]",
      "text/plain": [
       "<Figure size 640x480 with 1 Axes>"
      ]
     },
     "metadata": {},
     "output_type": "display_data"
    }
   ],
   "source": [
    "# Generate an ROC curve for your model.\n",
    "RocCurveDisplay.from_predictions(y_test, y_pred_proba)\n",
    "plt.title('ROC Curve')\n",
    "plt.show()"
   ]
  }
 ],
 "metadata": {
  "colab": {
   "provenance": []
  },
  "kernelspec": {
   "display_name": "Python 3 (ipykernel)",
   "language": "python",
   "name": "python3"
  },
  "language_info": {
   "codemirror_mode": {
    "name": "ipython",
    "version": 3
   },
   "file_extension": ".py",
   "mimetype": "text/x-python",
   "name": "python",
   "nbconvert_exporter": "python",
   "pygments_lexer": "ipython3",
   "version": "3.12.7"
  }
 },
 "nbformat": 4,
 "nbformat_minor": 4
}
